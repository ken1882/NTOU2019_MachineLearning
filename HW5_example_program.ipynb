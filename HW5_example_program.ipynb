{
 "cells": [
  {
   "attachments": {
    "figure.png": {
     "image/png": "[encoded data removed]"
    }
   },
   "cell_type": "markdown",
   "metadata": {},
   "source": [
    "## 作業五: Fruits 360 dataset (程式部分)\n",
    "dataset: https://www.kaggle.com/moltean/fruits<br>\n",
    "這個資料集目的是水果影像辨識。欲下載那個資料集，你必須先在Kaggle註冊一個帳號，你可以從 Wiki:https://zh.wikipedia.org/wiki/Kaggle 知道更多關於Kaggle的背景，可以藉由這次作業順便逛逛Kaggle。Github上其實作者也放了一個Fruits 360 dataset，<font color=\"red\">並且包含程式</font>。\n",
    "\n",
    "我們將藉由這個作業，了解如何應用Keras製作捲積類神經網路做影像辨識。(必須先裝opencv:  conda install -c anaconda opencv)下面範例分成數個步驟:\n",
    "+ 首先載入資料集(注意作者的捲積類神經網路輸入為使用四通道，HSV+Gray)\n",
    "+ 顯示樣本\n",
    "+ 準備Training Set與Validation Set\n",
    "+ 將樣本類別標籤以one-hot encoding方式編碼\n",
    "+ 使用Data Augmentation技巧\n",
    "+ 定義捲積類神經網路及訓練\n",
    "+ 繪出Accuracy Curve\n",
    "+ 評估模型準度\n",
    "\n",
    "由於5×5 的Convolution Kernel可用兩層 3×3 的Convolution Kernel得到相同的Receptive Field。因此除了製作出作者模型外，也做另一個模型將作者的網路架構裡所有的 5×5 Kernel的Convolutional Layer，以下圖方式改為兩層 3×3 Kernel的Convolutional Layer。\n",
    "![figure.png](attachment:figure.png)"
   ]
  },
  {
   "cell_type": "markdown",
   "metadata": {},
   "source": [
    "同學必須更動資料集目錄，填上下面兩個函式缺的部分，完成類神經網路架構定義\n",
    "+ def define_network_architecture_5x5():\n",
    "+ def define_network_architecture_3x3():\n",
    "\n",
    "然後有耐心地跑完 (Cell執行順序先確定類神經網路架構定義是對的)"
   ]
  },
  {
   "cell_type": "markdown",
   "metadata": {},
   "source": [
    "#### 載入資料集"
   ]
  },
  {
   "cell_type": "code",
   "execution_count": null,
   "metadata": {},
   "outputs": [],
   "source": [
    "import numpy as np\n",
    "import os\n",
    "import glob\n",
    "import cv2\n",
    "import time\n",
    "\n",
    "fruit_dir = '.\\\\fruits-360_dataset\\\\fruits-360'  #資料集目錄\n",
    "\n",
    "class_id = {}\n",
    "class_name={}\n",
    "training_set_size = 0\n",
    "test_set_size = 0\n",
    "for idx,x in enumerate(glob.iglob(os.path.join(fruit_dir,os.path.join('Training','*')))):\n",
    "    training_set_size+= len(glob.glob(os.path.join(x,'*.jpg')))\n",
    "    class_id[x.split('\\\\')[-1]] = idx\n",
    "    class_name[idx] = x.split('\\\\')[-1]\n",
    "\n",
    "for idx,x in enumerate(glob.iglob(os.path.join(fruit_dir,os.path.join('Test','*')))):\n",
    "    test_set_size+= len(glob.glob(os.path.join(x,'*.jpg')))\n",
    "\n",
    "print('total number of training images: {}, total number of test images: {}, total number of classes: {}'.format(training_set_size,test_set_size,len(class_id)))\n",
    "\n",
    "x_train = np.zeros((training_set_size,100,100,4),dtype=np.uint8)\n",
    "training_label = np.zeros((training_set_size,),dtype=np.int)\n",
    "x_test = np.zeros((test_set_size,100,100,4),dtype=np.uint8)\n",
    "test_label = np.zeros((test_set_size,),dtype=np.int)\n",
    "\n",
    "\n",
    "training_id = 0\n",
    "for x in glob.iglob(os.path.join(fruit_dir,os.path.join('Training','*'))):\n",
    "    cid = class_id[x.split('\\\\')[-1]]\n",
    "    for f in glob.glob(os.path.join(x,'*.jpg')):\n",
    "        img = cv2.imread(f,cv2.IMREAD_COLOR)\n",
    "        g   = cv2.cvtColor(img,cv2.COLOR_BGR2GRAY)\n",
    "        img = cv2.cvtColor(img,cv2.COLOR_BGR2HSV)\n",
    "        x_train[training_id,:,:,:3] =img \n",
    "        x_train[training_id,:,:,3]  =g\n",
    "        training_label[training_id] = cid\n",
    "        training_id = training_id + 1\n",
    "        \n",
    "test_id = 0        \n",
    "for x in glob.iglob(os.path.join(fruit_dir,os.path.join('Test','*'))):\n",
    "    cid = class_id[x.split('\\\\')[-1]]\n",
    "    for f in glob.glob(os.path.join(x,'*.jpg')):\n",
    "        img = cv2.imread(f,cv2.IMREAD_COLOR)\n",
    "        g   = cv2.cvtColor(img,cv2.COLOR_BGR2GRAY)\n",
    "        img = cv2.cvtColor(img,cv2.COLOR_BGR2HSV)\n",
    "        x_test[test_id,:,:,:3] = img\n",
    "        x_test[test_id,:,:,3]  = g\n",
    "        test_label[test_id] = cid\n",
    "        test_id = test_id + 1"
   ]
  },
  {
   "cell_type": "markdown",
   "metadata": {},
   "source": [
    "#### 顯示樣本"
   ]
  },
  {
   "cell_type": "code",
   "execution_count": null,
   "metadata": {},
   "outputs": [],
   "source": [
    "import matplotlib.pyplot as plt\n",
    "%matplotlib inline\n",
    "\n",
    "plt.figure(figsize=(20,8))\n",
    "for splt,idx in enumerate(np.random.permutation(x_train.shape[0])[:5]):\n",
    "    plt.subplot(2,5,splt+1)\n",
    "    img = x_train[idx,:,:,:3]\n",
    "    img = cv2.cvtColor(img,cv2.COLOR_HSV2BGR)\n",
    "    plt.imshow(img[:,:,::-1])\n",
    "    plt.title('training:{},id#:{}'.format(class_name[training_label[idx]],idx))\n",
    "    plt.axis('Off')\n",
    "for splt,idx in enumerate(np.random.permutation(x_test.shape[0])[:5]):\n",
    "    plt.subplot(2,5,splt+6)\n",
    "    img = x_train[idx,:,:,:3]\n",
    "    img = cv2.cvtColor(img,cv2.COLOR_HSV2BGR)\n",
    "    plt.imshow(img[:,:,::-1])\n",
    "    plt.title('test:{},id#:{}'.format(class_name[test_label[idx]],idx))\n",
    "    plt.axis('Off')\n",
    "plt.show()    \n",
    "    "
   ]
  },
  {
   "cell_type": "markdown",
   "metadata": {},
   "source": [
    "#### 準備Training Set與Validation Set"
   ]
  },
  {
   "cell_type": "code",
   "execution_count": null,
   "metadata": {},
   "outputs": [],
   "source": [
    "from keras.preprocessing.image import ImageDataGenerator\n",
    "from sklearn.model_selection import train_test_split\n",
    "\n",
    "epochs   = 50\n",
    "batchsize= 60\n",
    "\n",
    "x_train  = x_train / 255\n",
    "x_test   = x_test / 255\n",
    "\n",
    "x_train0, x_val, train0_label, val_label = train_test_split(x_train,training_label,test_size=0.1, random_state=303)"
   ]
  },
  {
   "cell_type": "markdown",
   "metadata": {},
   "source": [
    "#### 將樣本類別標籤以one-hot encoding方式編碼"
   ]
  },
  {
   "cell_type": "code",
   "execution_count": null,
   "metadata": {},
   "outputs": [],
   "source": [
    "from keras.utils import to_categorical\n",
    "y_train0  = to_categorical(train0_label)\n",
    "y_val     = to_categorical(val_label)\n",
    "y_test   = to_categorical(test_label)"
   ]
  },
  {
   "cell_type": "markdown",
   "metadata": {},
   "source": [
    "#### 使用Data Augmentation技巧"
   ]
  },
  {
   "cell_type": "code",
   "execution_count": null,
   "metadata": {},
   "outputs": [],
   "source": [
    "datagen = ImageDataGenerator(vertical_flip=True,horizontal_flip=True)"
   ]
  },
  {
   "cell_type": "markdown",
   "metadata": {},
   "source": [
    "#### 定義捲積類神經網路"
   ]
  },
  {
   "cell_type": "markdown",
   "metadata": {},
   "source": [
    "#### 定義5x5 Convolutional Layer的那個模型"
   ]
  },
  {
   "cell_type": "code",
   "execution_count": null,
   "metadata": {},
   "outputs": [],
   "source": [
    "from keras.models import Sequential\n",
    "from keras.layers import Dense, Activation, Conv2D, MaxPooling2D, Flatten,Dropout\n",
    "from keras.optimizers import Adam\n",
    "\n",
    "def define_network_architecture_5x5():\n",
    "    model = Sequential()\n",
    "    model.add(Conv2D(16,(5,5),strides=(1,1),input_shape=(100,100,4),padding='same',activation='relu'))\n",
    "    model.add(MaxPooling2D(pool_size=(2,2)))\n",
    "#   根據作者設計加入若干層 Conv2D MaxPooling2D\n",
    "#\n",
    "    model.add(Flatten())\n",
    "    model.add(Dense(1024,activation='relu'))\n",
    "    model.add(Dropout(0.8))\n",
    "    model.add(Dense(256,activation='relu'))\n",
    "    model.add(Dropout(0.8))\n",
    "    model.add(Dense(103,activation='softmax'))\n",
    "    model.summary()\n",
    "    print('the total number of layers:{}'.format(len(model.layers)))    \n",
    "    model.compile(optimizer='adam',loss='categorical_crossentropy',metrics=['accuracy'])\n",
    "    return model"
   ]
  },
  {
   "cell_type": "code",
   "execution_count": null,
   "metadata": {},
   "outputs": [],
   "source": [
    "model_5x5 = define_network_architecture_5x5()"
   ]
  },
  {
   "cell_type": "markdown",
   "metadata": {},
   "source": [
    "#### 開始訓練5x5那個模型"
   ]
  },
  {
   "cell_type": "code",
   "execution_count": null,
   "metadata": {},
   "outputs": [],
   "source": [
    "s = time.time()\n",
    "history_5x5 = model_5x5.fit_generator(datagen.flow(x_train0, y_train0, batch_size=batchsize),steps_per_epoch=x_train0.shape[0]//batchsize, epochs=epochs,\n",
    "                   validation_data=datagen.flow(x_val, y_val))"
   ]
  },
  {
   "cell_type": "code",
   "execution_count": null,
   "metadata": {},
   "outputs": [],
   "source": [
    "print('training time:{}'.format(time.time()-s))"
   ]
  },
  {
   "cell_type": "markdown",
   "metadata": {},
   "source": [
    "#### 顯示Training History"
   ]
  },
  {
   "cell_type": "code",
   "execution_count": null,
   "metadata": {},
   "outputs": [],
   "source": [
    "plt.figure(figsize=(8,4))\n",
    "plt.title('model 5x5')\n",
    "plt.plot(history_5x5.history['acc'],label='training')\n",
    "plt.plot(history_5x5.history['val_acc'],label='validation')\n",
    "plt.xlabel('epoch')\n",
    "plt.ylabel('accuracy')\n",
    "plt.grid('On')\n",
    "plt.legend()\n",
    "plt.show()"
   ]
  },
  {
   "cell_type": "markdown",
   "metadata": {},
   "source": [
    "#### 定義3x3 Convolutional Layer的那個模型"
   ]
  },
  {
   "cell_type": "code",
   "execution_count": null,
   "metadata": {},
   "outputs": [],
   "source": [
    "from keras.models import Model\n",
    "from keras.layers import Dense, Activation, Conv2D, MaxPooling2D, Flatten, Dropout, Input, Concatenate\n",
    "from keras.optimizers import Adam\n",
    "def define_network_architecture_3x3():\n",
    "    data = Input(shape=(100,100,4))\n",
    "    x1   = Conv2D(8,(3,3),strides=(1,1),padding='same',activation='relu')(data)\n",
    "    x2   = Conv2D(8,(3,3),strides=(1,1),padding='same',activation='relu')(x1)\n",
    "    z    = Concatenate()([x1,x2])\n",
    "    z    = MaxPooling2D(pool_size=(2,2))(z)\n",
    "#   改作者設計加入若干層 Conv2D Conv2D Concatenate MaxPooling2D\n",
    "\n",
    "\n",
    "\n",
    "#    \n",
    "    z    = Flatten()(z)\n",
    "    z    = Dense(1024,activation='relu')(z)\n",
    "    z    = Dropout(0.8)(z)\n",
    "    z    = Dense(256,activation='relu')(z)\n",
    "    z    = Dropout(0.8)(z)\n",
    "    z    = Dense(103,activation='softmax')(z)\n",
    "    model = Model(inputs=data,outputs=z)\n",
    "    model.summary()\n",
    "    print('the total number of layers:{}'.format(len(model.layers)))\n",
    "    model.compile(optimizer='adam',loss='categorical_crossentropy',metrics=['accuracy'])\n",
    "    return model"
   ]
  },
  {
   "cell_type": "code",
   "execution_count": null,
   "metadata": {},
   "outputs": [],
   "source": [
    "model_3x3 = define_network_architecture_3x3()"
   ]
  },
  {
   "cell_type": "markdown",
   "metadata": {},
   "source": [
    "#### 開始訓練3x3那個模型"
   ]
  },
  {
   "cell_type": "code",
   "execution_count": null,
   "metadata": {},
   "outputs": [],
   "source": [
    "s = time.time()\n",
    "history_3x3 = model_3x3.fit_generator(datagen.flow(x_train0, y_train0, batch_size=batchsize),steps_per_epoch=x_train0.shape[0]//batchsize, epochs=epochs,\n",
    "                   validation_data=datagen.flow(x_val, y_val))"
   ]
  },
  {
   "cell_type": "code",
   "execution_count": null,
   "metadata": {},
   "outputs": [],
   "source": [
    "print('training time:{}'.format(time.time()-s))"
   ]
  },
  {
   "cell_type": "markdown",
   "metadata": {},
   "source": [
    "#### 顯示Training History"
   ]
  },
  {
   "cell_type": "code",
   "execution_count": null,
   "metadata": {},
   "outputs": [],
   "source": [
    "plt.figure(figsize=(8,4))\n",
    "plt.title('model 3x3')\n",
    "plt.plot(history_3x3.history['acc'],label='training')\n",
    "plt.plot(history_3x3.history['val_acc'],label='validation')\n",
    "plt.xlabel('epoch')\n",
    "plt.ylabel('accuracy')\n",
    "plt.grid('On')\n",
    "plt.legend()\n",
    "plt.show()"
   ]
  },
  {
   "cell_type": "markdown",
   "metadata": {},
   "source": [
    "#### 顯示測試正確率"
   ]
  },
  {
   "cell_type": "code",
   "execution_count": null,
   "metadata": {},
   "outputs": [],
   "source": [
    "scores_5x5 = model_5x5.evaluate(x_test,y_test)\n",
    "scores_3x3 = model_3x3.evaluate(x_test,y_test)"
   ]
  },
  {
   "cell_type": "code",
   "execution_count": null,
   "metadata": {},
   "outputs": [],
   "source": [
    "print('accuracy 5x5:{:.4f}, 3x3:{:.4f}'.format(scores_5x5[1],scores_3x3[1]))"
   ]
  }
 ],
 "metadata": {
  "kernelspec": {
   "display_name": "Python 3",
   "language": "python",
   "name": "python3"
  },
  "language_info": {
   "codemirror_mode": {
    "name": "ipython",
    "version": 3
   },
   "file_extension": ".py",
   "mimetype": "text/x-python",
   "name": "python",
   "nbconvert_exporter": "python",
   "pygments_lexer": "ipython3",
   "version": "3.7.0"
  },
  "widgets": {
   "state": {},
   "version": "1.1.2"
  }
 },
 "nbformat": 4,
 "nbformat_minor": 2
}
